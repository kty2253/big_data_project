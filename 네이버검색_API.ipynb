{
  "nbformat": 4,
  "nbformat_minor": 0,
  "metadata": {
    "colab": {
      "provenance": [],
      "include_colab_link": true
    },
    "kernelspec": {
      "name": "python3",
      "display_name": "Python 3"
    },
    "language_info": {
      "name": "python"
    }
  },
  "cells": [
    {
      "cell_type": "markdown",
      "metadata": {
        "id": "view-in-github",
        "colab_type": "text"
      },
      "source": [
        "<a href=\"https://colab.research.google.com/github/kty2253/big_data_project/blob/main/%EB%84%A4%EC%9D%B4%EB%B2%84%EA%B2%80%EC%83%89_API.ipynb\" target=\"_parent\"><img src=\"https://colab.research.google.com/assets/colab-badge.svg\" alt=\"Open In Colab\"/></a>"
      ]
    },
    {
      "cell_type": "markdown",
      "source": [
        "네이버 검색 API를 이용하여 1000개를 추출하여 JSON 형식으로 저장."
      ],
      "metadata": {
        "id": "TJPKI20RlxrT"
      }
    },
    {
      "cell_type": "code",
      "source": [
        "import os\n",
        "import sys\n",
        "import urllib.request\n",
        "import datetime\n",
        "import time\n",
        "import json\n",
        "\n",
        "\n",
        "client_id = ' '\n",
        "client_secret = ' '\n",
        "\n",
        "\n",
        "def getRequestUrl(url):\n",
        "    req = urllib.request.Request(url)\n",
        "    req.add_header(\"X-Naver-Client-Id\", client_id)\n",
        "    req.add_header(\"X-Naver-Client-Secret\", client_secret)\n",
        "\n",
        "    try:\n",
        "        response = urllib.request.urlopen(req)\n",
        "        if response.getcode() == 200:\n",
        "            print (\"[%s] Url Request Success\" % datetime.datetime.now())\n",
        "            return response.read().decode('utf-8')\n",
        "    except Exception as e:\n",
        "        print(e)\n",
        "        print(\"[%s] Error for URL : %s\" % (datetime.datetime.now(), url))\n",
        "        return None\n",
        "\n",
        "\n",
        "def getNaverSearch(node, srcText, start, display):\n",
        "    base = \"https://openapi.naver.com/v1/search\"\n",
        "    node = \"/%s.json\" % node\n",
        "    parameters = \"?query=%s&start=%s&display=%s\" % (urllib.parse.quote(srcText), start, display)\n",
        "\n",
        "    url = base + node + parameters\n",
        "    responseDecode = getRequestUrl(url)\n",
        "\n",
        "    if (responseDecode == None):\n",
        "        return None\n",
        "    else:\n",
        "        return json.loads(responseDecode)\n",
        "\n",
        "\n",
        "def getPostData(post, jsonResult, cnt):\n",
        "    title = post['title']\n",
        "    description = post['description']\n",
        "    org_link = post['originallink']\n",
        "    link = post['link']\n",
        "\n",
        "    pDate = datetime.datetime.strptime(post['pubDate'],  '%a, %d %b %Y %H:%M:%S +0900')\n",
        "    pDate = pDate.strftime('%Y-%m-%d %H:%M:%S')\n",
        "\n",
        "    # Set your desired date range\n",
        "    start_date = datetime.datetime.strptime('2023-01-01', '%Y-%m-%d')\n",
        "    end_date = datetime.datetime.strptime('2023-12-31', '%Y-%m-%d')\n",
        "\n",
        "    # Check if the date of the news falls into the range\n",
        "    if start_date <= datetime.datetime.strptime(pDate, '%Y-%m-%d %H:%M:%S') <= end_date:\n",
        "        jsonResult.append({'cnt':cnt, 'title':title, 'description': description,\n",
        "        'org_link':org_link,   'link': org_link,   'pDate':pDate})\n",
        "    return\n",
        "\n",
        "\n",
        "def main():\n",
        "    node = 'news'\n",
        "    srcText = input('검색어를 입력하세요: ')\n",
        "    cnt = 0\n",
        "    jsonResult = []\n",
        "\n",
        "    jsonResponse = getNaverSearch(node, srcText, 1, 100)\n",
        "    total = jsonResponse['total']\n",
        "\n",
        "    while ((jsonResponse != None) and (jsonResponse['display'] != 0)):\n",
        "        for post in jsonResponse['items']:\n",
        "            cnt += 1\n",
        "            getPostData(post, jsonResult, cnt)\n",
        "\n",
        "        start = jsonResponse['start'] + jsonResponse['display']\n",
        "        jsonResponse = getNaverSearch(node, srcText, start, 100)\n",
        "\n",
        "    print('전체 검색 : %d 건' %total)\n",
        "\n",
        "    with open('%s_naver_%s.json' % (srcText, node), 'w', encoding='utf8') as outfile:\n",
        "        jsonFile = json.dumps(jsonResult,  indent=4, sort_keys=True,  ensure_ascii=False)\n",
        "\n",
        "        outfile.write(jsonFile)\n",
        "\n",
        "    print(\"가져온 데이터 : %d 건\" %(len(jsonResult)))\n",
        "    print ('%s_naver_%s.json SAVED' % (srcText, node))\n",
        "\n",
        "if __name__ == '__main__':\n",
        "    main()"
      ],
      "metadata": {
        "colab": {
          "base_uri": "https://localhost:8080/"
        },
        "id": "X7gcg3vx_gUz",
        "outputId": "e9684770-e4cc-4ece-c58e-b9198f1ae4e1"
      },
      "execution_count": null,
      "outputs": [
        {
          "output_type": "stream",
          "name": "stdout",
          "text": [
            "검색어를 입력하세요: 3기 신도시\n",
            "[2023-12-03 07:35:07.573082] Url Request Success\n",
            "[2023-12-03 07:35:08.743269] Url Request Success\n",
            "[2023-12-03 07:35:10.046070] Url Request Success\n",
            "[2023-12-03 07:35:11.239099] Url Request Success\n",
            "[2023-12-03 07:35:12.429729] Url Request Success\n",
            "[2023-12-03 07:35:13.644804] Url Request Success\n",
            "[2023-12-03 07:35:14.832873] Url Request Success\n",
            "[2023-12-03 07:35:16.030484] Url Request Success\n",
            "[2023-12-03 07:35:17.228957] Url Request Success\n",
            "[2023-12-03 07:35:18.418256] Url Request Success\n",
            "HTTP Error 400: Bad Request\n",
            "[2023-12-03 07:35:19.371387] Error for URL : https://openapi.naver.com/v1/search/news.json?query=3%EA%B8%B0%20%EC%8B%A0%EB%8F%84%EC%8B%9C&start=1001&display=100\n",
            "전체 검색 : 124965 건\n",
            "가져온 데이터 : 1000 건\n",
            "3기 신도시_naver_news.json SAVED\n"
          ]
        }
      ]
    }
  ]
}